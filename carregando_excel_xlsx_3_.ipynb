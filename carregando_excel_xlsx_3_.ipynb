{
 "cells": [
  {
   "cell_type": "code",
   "execution_count": 1,
   "metadata": {},
   "outputs": [],
   "source": [
    "import pandas as pd"
   ]
  },
  {
   "attachments": {},
   "cell_type": "markdown",
   "metadata": {},
   "source": [
    "# Método de leitura de um arquivo Excel :\n",
    "\n",
    "-   Arquivo teste 'stage1.1/bairros.xlsx';\n",
    "\n",
    "bairros = pd.read_excel(\n",
    "    io = 'stage1.1/bairros.xlsx',               -----> Arquivo onde está planilha que quero carregar como DataFrame;\n",
    "    sheet_name = 'Preço médio por tipo',        -----> Nome da planilha dentro do arquivo bairros.xlsx que será usada para importar os dados;\n",
    "    usecols = 'C:E',                            -----> Seleciona quais as colunas onde estão armazenados os dados que desejo ler no DataFrame (leitura: da coluna 'C' até a coluna 'E');\n",
    "    header = 2,                                 -----> Indica qual é a linha onde deve começar a ser lido os dados (lembrando que respeita a indexação do python começando do 0);\n",
    "    index_col = [0,1],                          -----> Indica quais colunas serão usadas como indices o DataFrame que será carregado;\n",
    "    names = ['bairros','tipo','valor_m2_bairro']-----> Seta qual o nome que será usado nas colunas que serão carregadas para o DataFrame.\n",
    ")"
   ]
  },
  {
   "cell_type": "code",
   "execution_count": 3,
   "metadata": {},
   "outputs": [
    {
     "data": {
      "text/html": [
       "<div>\n",
       "<style scoped>\n",
       "    .dataframe tbody tr th:only-of-type {\n",
       "        vertical-align: middle;\n",
       "    }\n",
       "\n",
       "    .dataframe tbody tr th {\n",
       "        vertical-align: top;\n",
       "    }\n",
       "\n",
       "    .dataframe thead th {\n",
       "        text-align: right;\n",
       "    }\n",
       "</style>\n",
       "<table border=\"1\" class=\"dataframe\">\n",
       "  <thead>\n",
       "    <tr style=\"text-align: right;\">\n",
       "      <th></th>\n",
       "      <th></th>\n",
       "      <th>valor_m2_bairro</th>\n",
       "    </tr>\n",
       "    <tr>\n",
       "      <th>bairros</th>\n",
       "      <th>tipo</th>\n",
       "      <th></th>\n",
       "    </tr>\n",
       "  </thead>\n",
       "  <tbody>\n",
       "    <tr>\n",
       "      <th rowspan=\"5\" valign=\"top\">São Cristóvão</th>\n",
       "      <th>Casa</th>\n",
       "      <td>13793</td>\n",
       "    </tr>\n",
       "    <tr>\n",
       "      <th>Apartamento</th>\n",
       "      <td>6306</td>\n",
       "    </tr>\n",
       "    <tr>\n",
       "      <th>Cobertura</th>\n",
       "      <td>11695</td>\n",
       "    </tr>\n",
       "    <tr>\n",
       "      <th>Consultório</th>\n",
       "      <td>6991</td>\n",
       "    </tr>\n",
       "    <tr>\n",
       "      <th>Imóvel Comercial</th>\n",
       "      <td>19633</td>\n",
       "    </tr>\n",
       "    <tr>\n",
       "      <th>...</th>\n",
       "      <th>...</th>\n",
       "      <td>...</td>\n",
       "    </tr>\n",
       "    <tr>\n",
       "      <th rowspan=\"5\" valign=\"top\">Vista Alegre</th>\n",
       "      <th>Cobertura</th>\n",
       "      <td>16567</td>\n",
       "    </tr>\n",
       "    <tr>\n",
       "      <th>Consultório</th>\n",
       "      <td>5812</td>\n",
       "    </tr>\n",
       "    <tr>\n",
       "      <th>Imóvel Comercial</th>\n",
       "      <td>12895</td>\n",
       "    </tr>\n",
       "    <tr>\n",
       "      <th>Loja</th>\n",
       "      <td>6182</td>\n",
       "    </tr>\n",
       "    <tr>\n",
       "      <th>Sala Comercial</th>\n",
       "      <td>3377</td>\n",
       "    </tr>\n",
       "  </tbody>\n",
       "</table>\n",
       "<p>1127 rows × 1 columns</p>\n",
       "</div>"
      ],
      "text/plain": [
       "                                valor_m2_bairro\n",
       "bairros       tipo                             \n",
       "São Cristóvão Casa                        13793\n",
       "              Apartamento                  6306\n",
       "              Cobertura                   11695\n",
       "              Consultório                  6991\n",
       "              Imóvel Comercial            19633\n",
       "...                                         ...\n",
       "Vista Alegre  Cobertura                   16567\n",
       "              Consultório                  5812\n",
       "              Imóvel Comercial            12895\n",
       "              Loja                         6182\n",
       "              Sala Comercial               3377\n",
       "\n",
       "[1127 rows x 1 columns]"
      ]
     },
     "execution_count": 3,
     "metadata": {},
     "output_type": "execute_result"
    }
   ],
   "source": [
    "bairros = pd.read_excel(\n",
    "    io = 'stage1.1/bairros.xlsx',               \n",
    "    sheet_name = 'Preço médio por tipo',        \n",
    "    usecols = 'C:E',                           \n",
    "    header = 2,                                 \n",
    "    index_col = [0,1],                          \n",
    "    names = ['bairros','tipo','valor_m2_bairro']\n",
    ")\n",
    "bairros"
   ]
  }
 ],
 "metadata": {
  "kernelspec": {
   "display_name": "vm_pandas_estudos",
   "language": "python",
   "name": "python3"
  },
  "language_info": {
   "codemirror_mode": {
    "name": "ipython",
    "version": 3
   },
   "file_extension": ".py",
   "mimetype": "text/x-python",
   "name": "python",
   "nbconvert_exporter": "python",
   "pygments_lexer": "ipython3",
   "version": "3.10.11"
  },
  "orig_nbformat": 4
 },
 "nbformat": 4,
 "nbformat_minor": 2
}
