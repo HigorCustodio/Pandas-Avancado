{
 "cells": [
  {
   "cell_type": "code",
   "execution_count": 1,
   "metadata": {},
   "outputs": [],
   "source": [
    "import pandas as pd"
   ]
  },
  {
   "attachments": {},
   "cell_type": "markdown",
   "metadata": {},
   "source": [
    "# Lendo arquivo Json:   "
   ]
  },
  {
   "cell_type": "code",
   "execution_count": 13,
   "metadata": {},
   "outputs": [
    {
     "data": {
      "text/html": [
       "<div>\n",
       "<style scoped>\n",
       "    .dataframe tbody tr th:only-of-type {\n",
       "        vertical-align: middle;\n",
       "    }\n",
       "\n",
       "    .dataframe tbody tr th {\n",
       "        vertical-align: top;\n",
       "    }\n",
       "\n",
       "    .dataframe thead th {\n",
       "        text-align: right;\n",
       "    }\n",
       "</style>\n",
       "<table border=\"1\" class=\"dataframe\">\n",
       "  <thead>\n",
       "    <tr style=\"text-align: right;\">\n",
       "      <th></th>\n",
       "      <th>normal</th>\n",
       "      <th>highlights</th>\n",
       "    </tr>\n",
       "  </thead>\n",
       "  <tbody>\n",
       "    <tr>\n",
       "      <th>output</th>\n",
       "      <td>{'listings': [{'imovel': {'tipos': {'proprieda...</td>\n",
       "      <td>{'listings': [{'imovel': {'tipos': {'proprieda...</td>\n",
       "    </tr>\n",
       "  </tbody>\n",
       "</table>\n",
       "</div>"
      ],
      "text/plain": [
       "                                                   normal  \\\n",
       "output  {'listings': [{'imovel': {'tipos': {'proprieda...   \n",
       "\n",
       "                                               highlights  \n",
       "output  {'listings': [{'imovel': {'tipos': {'proprieda...  "
      ]
     },
     "execution_count": 13,
     "metadata": {},
     "output_type": "execute_result"
    }
   ],
   "source": [
    "dados = pd.read_json(path_or_buf = 'stage1.1/realestates.json', orient = 'columns')\n",
    "dados"
   ]
  },
  {
   "cell_type": "code",
   "execution_count": 3,
   "metadata": {},
   "outputs": [
    {
     "data": {
      "text/html": [
       "<div>\n",
       "<style scoped>\n",
       "    .dataframe tbody tr th:only-of-type {\n",
       "        vertical-align: middle;\n",
       "    }\n",
       "\n",
       "    .dataframe tbody tr th {\n",
       "        vertical-align: top;\n",
       "    }\n",
       "\n",
       "    .dataframe thead th {\n",
       "        text-align: right;\n",
       "    }\n",
       "</style>\n",
       "<table border=\"1\" class=\"dataframe\">\n",
       "  <thead>\n",
       "    <tr style=\"text-align: right;\">\n",
       "      <th></th>\n",
       "      <th>imovel_tipos_propriedade</th>\n",
       "      <th>imovel_endereco_bairro</th>\n",
       "      <th>imovel_endereco_localizacao_type</th>\n",
       "      <th>imovel_endereco_localizacao_coordinates</th>\n",
       "      <th>imovel_vagasGaragem</th>\n",
       "      <th>imovel_area</th>\n",
       "      <th>imovel_caracteristicas_propriedade</th>\n",
       "      <th>imovel_caracteristicas_condominio</th>\n",
       "      <th>imovel_caracteristicas_entorno</th>\n",
       "      <th>anuncio_tipos_publicacao</th>\n",
       "      <th>anuncio_tipos_listagem</th>\n",
       "      <th>anuncio_valores_venda</th>\n",
       "      <th>anuncio_valores_aluguel</th>\n",
       "      <th>anuncio_valores_condominio</th>\n",
       "      <th>anuncio_valores_iptu</th>\n",
       "      <th>anuncio_descricao</th>\n",
       "    </tr>\n",
       "  </thead>\n",
       "  <tbody>\n",
       "    <tr>\n",
       "      <th>0</th>\n",
       "      <td>Casa</td>\n",
       "      <td>Barra da Tijuca</td>\n",
       "      <td>Point</td>\n",
       "      <td>[-43.3039086, -23.0139692]</td>\n",
       "      <td>4</td>\n",
       "      <td>279</td>\n",
       "      <td>['Área de Serviço', 'Terraço', 'Churrasqueira'...</td>\n",
       "      <td>['Churrasqueira', 'Salão de Jogos', 'Sauna', '...</td>\n",
       "      <td>['Próximo a Escola Particular', 'Próximo ao Me...</td>\n",
       "      <td>Padrão</td>\n",
       "      <td>Lançamento</td>\n",
       "      <td>2400000.0</td>\n",
       "      <td>0.0</td>\n",
       "      <td>790.0</td>\n",
       "      <td>5700.0</td>\n",
       "      <td>Amplo imóvel para venda com 3 quartos, sendo 1...</td>\n",
       "    </tr>\n",
       "    <tr>\n",
       "      <th>1</th>\n",
       "      <td>Apartamento</td>\n",
       "      <td>Campo Grande</td>\n",
       "      <td>Point</td>\n",
       "      <td>[0, 0]</td>\n",
       "      <td>1</td>\n",
       "      <td>60</td>\n",
       "      <td>['Sauna']</td>\n",
       "      <td>['Elevador', 'Playground', 'Salão de Festas', ...</td>\n",
       "      <td>['Próximo ao Shopping', 'Próximo a Áreas de La...</td>\n",
       "      <td>Padrão</td>\n",
       "      <td>Usado</td>\n",
       "      <td>200000.0</td>\n",
       "      <td>0.0</td>\n",
       "      <td>0.0</td>\n",
       "      <td>0.0</td>\n",
       "      <td>Amplo imóvel para venda com 2 quartos, sendo 0...</td>\n",
       "    </tr>\n",
       "    <tr>\n",
       "      <th>2</th>\n",
       "      <td>Cobertura</td>\n",
       "      <td>Barra da Tijuca</td>\n",
       "      <td>Point</td>\n",
       "      <td>[-43.3037186, -22.9951304]</td>\n",
       "      <td>2</td>\n",
       "      <td>380</td>\n",
       "      <td>['Acessibilidade', 'Área de Serviço', 'Sauna',...</td>\n",
       "      <td>['Sauna', 'Playground', 'Quadra Poliesportiva'...</td>\n",
       "      <td>['Próximo a Escola Particular']</td>\n",
       "      <td>Premium</td>\n",
       "      <td>Usado</td>\n",
       "      <td>4400000.0</td>\n",
       "      <td>0.0</td>\n",
       "      <td>1200.0</td>\n",
       "      <td>850.0</td>\n",
       "      <td>Amplo imóvel para venda com 5 quartos, sendo 4...</td>\n",
       "    </tr>\n",
       "    <tr>\n",
       "      <th>3</th>\n",
       "      <td>Cobertura</td>\n",
       "      <td>Barra da Tijuca</td>\n",
       "      <td>Point</td>\n",
       "      <td>[-43.3548121, -23.0097423]</td>\n",
       "      <td>1</td>\n",
       "      <td>73</td>\n",
       "      <td>['Vista Panorâmica', 'Piscina', 'Sauna', 'Clos...</td>\n",
       "      <td>['Quadra Poliesportiva', 'Aceita Pet', 'Playgr...</td>\n",
       "      <td>['Próximo a Farmácia', 'Próximo a Academia', '...</td>\n",
       "      <td>Padrão</td>\n",
       "      <td>Usado</td>\n",
       "      <td>1100000.0</td>\n",
       "      <td>0.0</td>\n",
       "      <td>1300.0</td>\n",
       "      <td>364.0</td>\n",
       "      <td>Amplo imóvel para venda com 2 quartos, sendo 1...</td>\n",
       "    </tr>\n",
       "    <tr>\n",
       "      <th>4</th>\n",
       "      <td>Sala Comercial</td>\n",
       "      <td>Glória</td>\n",
       "      <td>Point</td>\n",
       "      <td>[-43.1779703, -22.9174894]</td>\n",
       "      <td>1</td>\n",
       "      <td>32</td>\n",
       "      <td>['Armários Planejados']</td>\n",
       "      <td>['Quadra Poliesportiva', 'Porteiro 24 Horas', ...</td>\n",
       "      <td>['Próximo a Centro Empresarial', 'Próximo a Ár...</td>\n",
       "      <td>Padrão</td>\n",
       "      <td>Usado</td>\n",
       "      <td>260000.0</td>\n",
       "      <td>0.0</td>\n",
       "      <td>450.0</td>\n",
       "      <td>800.0</td>\n",
       "      <td>Amplo imóvel para venda com 0 quartos, sendo 0...</td>\n",
       "    </tr>\n",
       "  </tbody>\n",
       "</table>\n",
       "</div>"
      ],
      "text/plain": [
       "  imovel_tipos_propriedade imovel_endereco_bairro  \\\n",
       "0                     Casa        Barra da Tijuca   \n",
       "1              Apartamento           Campo Grande   \n",
       "2                Cobertura        Barra da Tijuca   \n",
       "3                Cobertura        Barra da Tijuca   \n",
       "4           Sala Comercial                 Glória   \n",
       "\n",
       "  imovel_endereco_localizacao_type imovel_endereco_localizacao_coordinates  \\\n",
       "0                            Point              [-43.3039086, -23.0139692]   \n",
       "1                            Point                                  [0, 0]   \n",
       "2                            Point              [-43.3037186, -22.9951304]   \n",
       "3                            Point              [-43.3548121, -23.0097423]   \n",
       "4                            Point              [-43.1779703, -22.9174894]   \n",
       "\n",
       "   imovel_vagasGaragem  imovel_area  \\\n",
       "0                    4          279   \n",
       "1                    1           60   \n",
       "2                    2          380   \n",
       "3                    1           73   \n",
       "4                    1           32   \n",
       "\n",
       "                  imovel_caracteristicas_propriedade  \\\n",
       "0  ['Área de Serviço', 'Terraço', 'Churrasqueira'...   \n",
       "1                                          ['Sauna']   \n",
       "2  ['Acessibilidade', 'Área de Serviço', 'Sauna',...   \n",
       "3  ['Vista Panorâmica', 'Piscina', 'Sauna', 'Clos...   \n",
       "4                            ['Armários Planejados']   \n",
       "\n",
       "                   imovel_caracteristicas_condominio  \\\n",
       "0  ['Churrasqueira', 'Salão de Jogos', 'Sauna', '...   \n",
       "1  ['Elevador', 'Playground', 'Salão de Festas', ...   \n",
       "2  ['Sauna', 'Playground', 'Quadra Poliesportiva'...   \n",
       "3  ['Quadra Poliesportiva', 'Aceita Pet', 'Playgr...   \n",
       "4  ['Quadra Poliesportiva', 'Porteiro 24 Horas', ...   \n",
       "\n",
       "                      imovel_caracteristicas_entorno anuncio_tipos_publicacao  \\\n",
       "0  ['Próximo a Escola Particular', 'Próximo ao Me...                   Padrão   \n",
       "1  ['Próximo ao Shopping', 'Próximo a Áreas de La...                   Padrão   \n",
       "2                    ['Próximo a Escola Particular']                  Premium   \n",
       "3  ['Próximo a Farmácia', 'Próximo a Academia', '...                   Padrão   \n",
       "4  ['Próximo a Centro Empresarial', 'Próximo a Ár...                   Padrão   \n",
       "\n",
       "  anuncio_tipos_listagem  anuncio_valores_venda  anuncio_valores_aluguel  \\\n",
       "0             Lançamento              2400000.0                      0.0   \n",
       "1                  Usado               200000.0                      0.0   \n",
       "2                  Usado              4400000.0                      0.0   \n",
       "3                  Usado              1100000.0                      0.0   \n",
       "4                  Usado               260000.0                      0.0   \n",
       "\n",
       "   anuncio_valores_condominio  anuncio_valores_iptu  \\\n",
       "0                       790.0                5700.0   \n",
       "1                         0.0                   0.0   \n",
       "2                      1200.0                 850.0   \n",
       "3                      1300.0                 364.0   \n",
       "4                       450.0                 800.0   \n",
       "\n",
       "                                   anuncio_descricao  \n",
       "0  Amplo imóvel para venda com 3 quartos, sendo 1...  \n",
       "1  Amplo imóvel para venda com 2 quartos, sendo 0...  \n",
       "2  Amplo imóvel para venda com 5 quartos, sendo 4...  \n",
       "3  Amplo imóvel para venda com 2 quartos, sendo 1...  \n",
       "4  Amplo imóvel para venda com 0 quartos, sendo 0...  "
      ]
     },
     "execution_count": 3,
     "metadata": {},
     "output_type": "execute_result"
    }
   ],
   "source": [
    "dados_normal_listings = pd.json_normalize(data=dados.normal, sep='_', record_path=['listings'])\n",
    "dados_normal_listings.head()"
   ]
  },
  {
   "attachments": {},
   "cell_type": "markdown",
   "metadata": {},
   "source": [
    "##### Para selecionar uma celula em uma coluna especifica do DataFrame:\n",
    "Função Loc: \n",
    "    \n",
    "    pd.DataFrame.loc['posição_celula_desejada','coluna_da_celula']\n",
    "\n",
    "\n",
    "Ex:\n",
    "    \n",
    "    dados_normal_listings.loc[0,'imovel_caracteristicas_propriedade']"
   ]
  },
  {
   "attachments": {},
   "cell_type": "markdown",
   "metadata": {},
   "source": [
    "##### Dado retornado dentro do campo \"imovel_caracteristicas_propriedade\"\n",
    "\n",
    "-   Apesar de se parecer com uma lista é uma string que contem uma lista de str!"
   ]
  },
  {
   "cell_type": "code",
   "execution_count": 4,
   "metadata": {},
   "outputs": [
    {
     "data": {
      "text/plain": [
       "\"['Área de Serviço', 'Terraço', 'Churrasqueira', 'Quarto/WC Empregada', 'Sauna', 'Varanda', 'Gás Encanado', 'Closet', 'Piscina', 'Mobiliado', 'Armários Planejados', 'Acessibilidade']\""
      ]
     },
     "execution_count": 4,
     "metadata": {},
     "output_type": "execute_result"
    }
   ],
   "source": [
    "lista_str = dados_normal_listings.loc[0,'imovel_caracteristicas_propriedade']\n",
    "lista_str"
   ]
  },
  {
   "cell_type": "code",
   "execution_count": 5,
   "metadata": {},
   "outputs": [
    {
     "data": {
      "text/plain": [
       "str"
      ]
     },
     "execution_count": 5,
     "metadata": {},
     "output_type": "execute_result"
    }
   ],
   "source": [
    "type(lista_str) "
   ]
  },
  {
   "attachments": {},
   "cell_type": "markdown",
   "metadata": {},
   "source": [
    "#### Como transformar essa string em uma lista legitima?"
   ]
  },
  {
   "attachments": {},
   "cell_type": "markdown",
   "metadata": {},
   "source": [
    "##### Começamos retirando os colchetes:\n",
    "\n",
    "    - Podemos retirar os colchetes através de uma simples filtragem de dados: lista_str[1:-1].\n",
    "        \n",
    "        Desta forma selecionamos o segundo item da lista e o penultimo e apresentamos uma str que não contenha os dois valores."
   ]
  },
  {
   "cell_type": "code",
   "execution_count": 6,
   "metadata": {},
   "outputs": [
    {
     "data": {
      "text/plain": [
       "\"'Área de Serviço', 'Terraço', 'Churrasqueira', 'Quarto/WC Empregada', 'Sauna', 'Varanda', 'Gás Encanado', 'Closet', 'Piscina', 'Mobiliado', 'Armários Planejados', 'Acessibilidade'\""
      ]
     },
     "execution_count": 6,
     "metadata": {},
     "output_type": "execute_result"
    }
   ],
   "source": [
    "lista_str[1:-1]"
   ]
  },
  {
   "attachments": {},
   "cell_type": "markdown",
   "metadata": {},
   "source": [
    "##### Outra forma de reritar os colchetes:\n",
    "\n",
    "    - Podemos também retirar os colchetes através da função strip do python:\n",
    "\n",
    "        lista_str.strip(\"[]\")\n",
    "\n",
    "        Desta forma o que esta sendo passado como argumento para a função strip será retirado da string."
   ]
  },
  {
   "cell_type": "code",
   "execution_count": 7,
   "metadata": {},
   "outputs": [
    {
     "data": {
      "text/plain": [
       "\"'Área de Serviço', 'Terraço', 'Churrasqueira', 'Quarto/WC Empregada', 'Sauna', 'Varanda', 'Gás Encanado', 'Closet', 'Piscina', 'Mobiliado', 'Armários Planejados', 'Acessibilidade'\""
      ]
     },
     "execution_count": 7,
     "metadata": {},
     "output_type": "execute_result"
    }
   ],
   "source": [
    "lista_str.strip(\"[]\")"
   ]
  },
  {
   "attachments": {},
   "cell_type": "markdown",
   "metadata": {},
   "source": [
    "##### Retirando as aspas duplas:\n",
    "\n",
    "    - Para retirar as aspas duplas poderiamos utilizar dos métodos exemplificados anteriormente, ou, também podemos utilizar o método replace() incluso tanto no Pandas quanto na propria linguagem python;\n",
    "\n",
    "    ex: lista_str[1:-1].replace(\"'\",\"\")\n",
    "\n",
    "        Neste caso estamos retirando os colchetes com a primeira parte do código \"lista_str[1:-1]\" e aplicamos a string resultante desse filtro o método \".replace(\"'\",\"\")\" que irá substituir as aspas simples por \"nada\".\n",
    "\n",
    "        Obs: Também é possível aplicar dois ou + replaces na mesma string:\n",
    "\n",
    "            lista_str.replace(\"[\", \"\").replace(\"]\", \"\").replace(\"'\",\"\")\n",
    "\n",
    "            O resultado seria o mesmo!"
   ]
  },
  {
   "cell_type": "code",
   "execution_count": 8,
   "metadata": {},
   "outputs": [
    {
     "data": {
      "text/plain": [
       "'Área de Serviço, Terraço, Churrasqueira, Quarto/WC Empregada, Sauna, Varanda, Gás Encanado, Closet, Piscina, Mobiliado, Armários Planejados, Acessibilidade'"
      ]
     },
     "execution_count": 8,
     "metadata": {},
     "output_type": "execute_result"
    }
   ],
   "source": [
    "str_dados = lista_str.replace(\"[\", \"\").replace(\"]\", \"\").replace(\"'\",\"\")\n",
    "str_dados"
   ]
  },
  {
   "attachments": {},
   "cell_type": "markdown",
   "metadata": {},
   "source": [
    "##### Transformando a string em lista:\n",
    "\n",
    "    -   Para transformar a string criada em uma lista Python utilizaremos o método split(), que consiste em realizar a separação de uma string em uma lista de str utilizando como padrão para separação o valor passado como paramêtro:\n",
    "\n",
    "    ex: \n",
    "\n",
    "            str_dados = 'Área de Serviço, Terraço, Churrasqueira, Quarto/WC Empregada, Sauna, Varanda, Gás Encanado, Closet, Piscina, Mobiliado, Armários Planejados, Acessibilidade'\n",
    "            \n",
    "\n",
    "            lista = str_dados.split(\",\")\n",
    "            \n",
    "            print(lista)\n",
    "\n",
    "\n",
    "            >>>['Área de Serviço',' Terraço', ' Churrasqueira', ' Quarto/WC Empregada', ' Sauna', ' Varanda', ' Gás Encanado', ' Closet', ' Piscina', ' Mobiliado', ' Armários Planejados', 'Acessibilidade']"
   ]
  },
  {
   "cell_type": "code",
   "execution_count": 9,
   "metadata": {},
   "outputs": [
    {
     "data": {
      "text/plain": [
       "['Área de Serviço',\n",
       " ' Terraço',\n",
       " ' Churrasqueira',\n",
       " ' Quarto/WC Empregada',\n",
       " ' Sauna',\n",
       " ' Varanda',\n",
       " ' Gás Encanado',\n",
       " ' Closet',\n",
       " ' Piscina',\n",
       " ' Mobiliado',\n",
       " ' Armários Planejados',\n",
       " ' Acessibilidade']"
      ]
     },
     "execution_count": 9,
     "metadata": {},
     "output_type": "execute_result"
    }
   ],
   "source": [
    "lista_dados = str_dados.split(\",\")\n",
    "lista_dados"
   ]
  },
  {
   "attachments": {},
   "cell_type": "markdown",
   "metadata": {},
   "source": [
    "#### Como aplicar esses filtros para toda a coluna?\n",
    "\n",
    "Precisamos transformar todas a coluna em formato str para poder tratar de forma generalizada:\n",
    "\n",
    "ex:\n",
    "\n",
    "    coluna = dados_normal_listings.loc[:,'imovel_caracteristicas_propriedade']\n",
    "    \n",
    "    |->  irá retornar uma Series, alguns filtros como o replace não podem ser aplicados para dados no formato de Series, logo é preciso transformar em str para que seja possível aplicar os métodos de filtros necessários para o tratamento dos dados:\n",
    "\n",
    "    coluna = coluna.str\n",
    "    \n",
    "    type(coluna)\n",
    "    \n",
    "    >>> pandas.core.strings.accessor.StringMethods\n",
    "\n"
   ]
  },
  {
   "cell_type": "code",
   "execution_count": 10,
   "metadata": {},
   "outputs": [
    {
     "data": {
      "text/plain": [
       "0     ['Área de Serviço', 'Terraço', 'Churrasqueira'...\n",
       "1                                             ['Sauna']\n",
       "2     ['Acessibilidade', 'Área de Serviço', 'Sauna',...\n",
       "3     ['Vista Panorâmica', 'Piscina', 'Sauna', 'Clos...\n",
       "4                               ['Armários Planejados']\n",
       "5     ['Mobiliado', 'Varanda', 'Closet', 'Churrasque...\n",
       "6     ['Churrasqueira', 'Gás Encanado', 'Cozinha Ame...\n",
       "7     ['Quarto/WC Empregada', 'Gás Encanado', 'Sauna...\n",
       "8     ['Acessibilidade', 'Mobiliado', 'Churrasqueira...\n",
       "9     ['Área de Serviço', 'Terraço', 'Ambientes Inte...\n",
       "10    ['Closet', 'Ambientes Integrados', 'Área de Se...\n",
       "11                                                   []\n",
       "12    ['Piscina', 'Quarto/WC Empregada', 'Gás Encana...\n",
       "13    ['Sauna', 'Terraço', 'Closet', 'Gás Encanado',...\n",
       "14                                                   []\n",
       "15    ['Quarto/WC Empregada', 'Varanda', 'Piscina', ...\n",
       "16    ['Vista Panorâmica', 'Sauna', 'Área de Serviço...\n",
       "17    ['Quarto/WC Empregada', 'Churrasqueira', 'Sauna']\n",
       "18    ['Sauna', 'Ambientes Integrados', 'Armários Pl...\n",
       "19    ['Mobiliado', 'Acessibilidade', 'Área de Servi...\n",
       "20    ['Sauna', 'Gás Encanado', 'Terraço', 'Ambiente...\n",
       "21                                                   []\n",
       "22    ['Terraço', 'Armários Planejados', 'Ambientes ...\n",
       "23    ['Área de Serviço', 'Quarto/WC Empregada', 'Cl...\n",
       "24    ['Cozinha Americana', 'Gás Encanado', 'Mobilia...\n",
       "25    ['Área de Serviço', 'Ambientes Integrados', 'V...\n",
       "26    ['Gás Encanado', 'Cozinha Americana', 'Vista P...\n",
       "27    ['Vista Panorâmica', 'Quarto/WC Empregada', 'S...\n",
       "28    ['Armários Planejados', 'Piscina', 'Churrasque...\n",
       "29                                                   []\n",
       "30    ['Mobiliado', 'Sauna', 'Cozinha Americana', 'Á...\n",
       "31    ['Cozinha Americana', 'Varanda', 'Vista Panorâ...\n",
       "32    ['Terraço', 'Vista Panorâmica', 'Piscina', 'Ac...\n",
       "33    ['Cozinha Americana', 'Quarto/WC Empregada', '...\n",
       "34    ['Área de Serviço', 'Terraço', 'Piscina', 'Clo...\n",
       "35    ['Acessibilidade', 'Churrasqueira', 'Sauna', '...\n",
       "36    ['Sauna', 'Vista Panorâmica', 'Terraço', 'Mobi...\n",
       "37    ['Gás Encanado', 'Mobiliado', 'Cozinha America...\n",
       "38    ['Área de Serviço', 'Gás Encanado', 'Cozinha A...\n",
       "39    ['Acessibilidade', 'Cozinha Americana', 'Varan...\n",
       "40    ['Sauna', 'Piscina', 'Closet', 'Varanda', 'Ace...\n",
       "41                    ['Mobiliado', 'Vista Panorâmica']\n",
       "42                                                   []\n",
       "43    ['Cozinha Americana', 'Vista Panorâmica', 'Gás...\n",
       "44    ['Mobiliado', 'Varanda', 'Cozinha Americana', ...\n",
       "45    ['Ambientes Integrados', 'Sauna', 'Piscina', '...\n",
       "46    ['Acessibilidade', 'Gás Encanado', 'Área de Se...\n",
       "47    ['Acessibilidade', 'Quarto/WC Empregada', 'Arm...\n",
       "48    ['Cozinha Americana', 'Mobiliado', 'Sauna', 'P...\n",
       "49    ['Varanda', 'Closet', 'Armários Planejados', '...\n",
       "Name: imovel_caracteristicas_propriedade, dtype: object"
      ]
     },
     "execution_count": 10,
     "metadata": {},
     "output_type": "execute_result"
    }
   ],
   "source": [
    "coluna = dados_normal_listings.loc[:,'imovel_caracteristicas_propriedade']\n",
    "coluna"
   ]
  },
  {
   "cell_type": "code",
   "execution_count": 11,
   "metadata": {},
   "outputs": [],
   "source": [
    "coluna = coluna.str\n",
    "    \n"
   ]
  },
  {
   "attachments": {},
   "cell_type": "markdown",
   "metadata": {},
   "source": [
    "#### Aplicando os filtros:\n",
    "\n",
    "    - Quando executamos o primeiro filtro \" coluna[1:-1] \" é retornado um valor em Series, logo, para poder utilizar o replace e o split é necessário transformar novamente os dados em \"str\", podemos fazer isso incluindo novamente o \".str\".\n",
    "\n",
    "    ex: \n",
    "\n",
    "        coluna[1:-1].str.replace(\"'\",\"\").str.split(\", \")"
   ]
  },
  {
   "cell_type": "code",
   "execution_count": 12,
   "metadata": {},
   "outputs": [
    {
     "data": {
      "text/plain": [
       "0     [Área de Serviço, Terraço, Churrasqueira, Quar...\n",
       "1                                               [Sauna]\n",
       "2     [Acessibilidade, Área de Serviço, Sauna, Ambie...\n",
       "3     [Vista Panorâmica, Piscina, Sauna, Closet, Mob...\n",
       "4                                 [Armários Planejados]\n",
       "5     [Mobiliado, Varanda, Closet, Churrasqueira, Am...\n",
       "6     [Churrasqueira, Gás Encanado, Cozinha American...\n",
       "7     [Quarto/WC Empregada, Gás Encanado, Sauna, Var...\n",
       "8     [Acessibilidade, Mobiliado, Churrasqueira, Pis...\n",
       "9     [Área de Serviço, Terraço, Ambientes Integrado...\n",
       "10    [Closet, Ambientes Integrados, Área de Serviço...\n",
       "11                                                   []\n",
       "12    [Piscina, Quarto/WC Empregada, Gás Encanado, M...\n",
       "13    [Sauna, Terraço, Closet, Gás Encanado, Vista P...\n",
       "14                                                   []\n",
       "15    [Quarto/WC Empregada, Varanda, Piscina, Sauna,...\n",
       "16    [Vista Panorâmica, Sauna, Área de Serviço, Pis...\n",
       "17          [Quarto/WC Empregada, Churrasqueira, Sauna]\n",
       "18    [Sauna, Ambientes Integrados, Armários Planeja...\n",
       "19    [Mobiliado, Acessibilidade, Área de Serviço, V...\n",
       "20    [Sauna, Gás Encanado, Terraço, Ambientes Integ...\n",
       "21                                                   []\n",
       "22    [Terraço, Armários Planejados, Ambientes Integ...\n",
       "23    [Área de Serviço, Quarto/WC Empregada, Closet,...\n",
       "24    [Cozinha Americana, Gás Encanado, Mobiliado, Á...\n",
       "25    [Área de Serviço, Ambientes Integrados, Vista ...\n",
       "26    [Gás Encanado, Cozinha Americana, Vista Panorâ...\n",
       "27    [Vista Panorâmica, Quarto/WC Empregada, Sauna,...\n",
       "28    [Armários Planejados, Piscina, Churrasqueira, ...\n",
       "29                                                   []\n",
       "30    [Mobiliado, Sauna, Cozinha Americana, Área de ...\n",
       "31    [Cozinha Americana, Varanda, Vista Panorâmica,...\n",
       "32    [Terraço, Vista Panorâmica, Piscina, Acessibil...\n",
       "33    [Cozinha Americana, Quarto/WC Empregada, Área ...\n",
       "34    [Área de Serviço, Terraço, Piscina, Closet, Gá...\n",
       "35    [Acessibilidade, Churrasqueira, Sauna, Closet,...\n",
       "36    [Sauna, Vista Panorâmica, Terraço, Mobiliado, ...\n",
       "37         [Gás Encanado, Mobiliado, Cozinha Americana]\n",
       "38    [Área de Serviço, Gás Encanado, Cozinha Americ...\n",
       "39    [Acessibilidade, Cozinha Americana, Varanda, G...\n",
       "40    [Sauna, Piscina, Closet, Varanda, Acessibilida...\n",
       "41                        [Mobiliado, Vista Panorâmica]\n",
       "42                                                   []\n",
       "43    [Cozinha Americana, Vista Panorâmica, Gás Enca...\n",
       "44    [Mobiliado, Varanda, Cozinha Americana, Armári...\n",
       "45    [Ambientes Integrados, Sauna, Piscina, Vista P...\n",
       "46    [Acessibilidade, Gás Encanado, Área de Serviço...\n",
       "47    [Acessibilidade, Quarto/WC Empregada, Armários...\n",
       "48    [Cozinha Americana, Mobiliado, Sauna, Piscina,...\n",
       "49    [Varanda, Closet, Armários Planejados, Piscina...\n",
       "Name: imovel_caracteristicas_propriedade, dtype: object"
      ]
     },
     "execution_count": 12,
     "metadata": {},
     "output_type": "execute_result"
    }
   ],
   "source": [
    "coluna[1:-1].str.replace(\"'\",\"\").str.split(\", \")"
   ]
  }
 ],
 "metadata": {
  "kernelspec": {
   "display_name": "vm_pandas_estudos",
   "language": "python",
   "name": "python3"
  },
  "language_info": {
   "codemirror_mode": {
    "name": "ipython",
    "version": 3
   },
   "file_extension": ".py",
   "mimetype": "text/x-python",
   "name": "python",
   "nbconvert_exporter": "python",
   "pygments_lexer": "ipython3",
   "version": "3.10.11"
  },
  "orig_nbformat": 4
 },
 "nbformat": 4,
 "nbformat_minor": 2
}
