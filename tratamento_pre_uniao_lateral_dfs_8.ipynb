{
 "cells": [
  {
   "cell_type": "markdown",
   "metadata": {},
   "source": [
    "#### Tratamento colunas antes Merge: "
   ]
  },
  {
   "cell_type": "code",
   "execution_count": 2,
   "metadata": {},
   "outputs": [],
   "source": [
    "import pandas as pd\n",
    "import numpy as np\n",
    "#todo - Continuar daqui, criar alterar nome coluna diferente para ficar igual para realizar o merge\n"
   ]
  },
  {
   "cell_type": "markdown",
   "metadata": {},
   "source": [
    "####   Retirar valores do index do DataFrame:\n",
    "    \n",
    "    -   Em muitos casos em tratamento de dados como o groupby, uma coluna pode assumir o valor de label, \n",
    "    onde para cada label são atribuidos diversos valores de uma mesma coluna.\n",
    "    \n",
    "    -   Para conseguir extrair esses labels e transforma-los em uma pd.Series é necessário extrar esses valores para um array.\n",
    "\n",
    "    -   Para conseguir realizar a extração desses dados para um array é possível realizar o uso do método:\n",
    "        •   dataframe.index.get_level_values(\"coluna_desejada\")\n",
    "            "
   ]
  },
  {
   "cell_type": "markdown",
   "metadata": {},
   "source": [
    "Exemplo:"
   ]
  },
  {
   "cell_type": "code",
   "execution_count": 12,
   "metadata": {},
   "outputs": [
    {
     "data": {
      "text/plain": [
       "Index(['São Cristóvão', 'São Cristóvão', 'São Cristóvão', 'São Cristóvão',\n",
       "       'São Cristóvão', 'São Cristóvão', 'São Cristóvão', 'Benfica', 'Benfica',\n",
       "       'Benfica',\n",
       "       ...\n",
       "       'Vila Kosmos', 'Vila Kosmos', 'Vila Kosmos', 'Vista Alegre',\n",
       "       'Vista Alegre', 'Vista Alegre', 'Vista Alegre', 'Vista Alegre',\n",
       "       'Vista Alegre', 'Vista Alegre'],\n",
       "      dtype='object', name='bairros', length=1127)"
      ]
     },
     "execution_count": 12,
     "metadata": {},
     "output_type": "execute_result"
    }
   ],
   "source": [
    "bairros = pd.read_excel(\n",
    "    io = 'stage1.1/bairros.xlsx',               \n",
    "    sheet_name = 'Preço médio por tipo',        \n",
    "    usecols = 'C:E',                           \n",
    "    header = 2,                                 \n",
    "    index_col = [0,1],                          \n",
    "    names = ['bairros','tipo','valor_m2_bairro']\n",
    ")\n",
    "bairros = bairros.index.get_level_values(\"bairros\")"
   ]
  },
  {
   "cell_type": "markdown",
   "metadata": {},
   "source": [
    "#### Verificando itens duplicados:\n",
    "    nunique():\n",
    "    \n",
    "        -   Para realizar a verificação da quantidade real de itens dentro de um array é possível utilizar um método do numpy chamada \"nunique()\".\n",
    "        -   Esse método irá retornar a quantidade de itens ignorando suas duplicatas.\n",
    "    \n",
    "    unique():\n",
    "\n",
    "        -   Para retornar um numpy array contendo somente 1 item de cada (eliminando as duplicidades) podemos utilizar o método unique() do numpy.\n",
    "\n",
    "\n"
   ]
  },
  {
   "cell_type": "code",
   "execution_count": 4,
   "metadata": {},
   "outputs": [
    {
     "data": {
      "text/plain": [
       "161"
      ]
     },
     "execution_count": 4,
     "metadata": {},
     "output_type": "execute_result"
    }
   ],
   "source": [
    "bairros.nunique()"
   ]
  },
  {
   "cell_type": "code",
   "execution_count": 5,
   "metadata": {},
   "outputs": [
    {
     "data": {
      "text/plain": [
       "array(['Abolição', 'Acari', 'Alto da Boa Vista', 'Anchieta', 'Andaraí',\n",
       "       'Anil', 'Bancários', 'Bangu', 'Barra da Tijuca',\n",
       "       'Barra de Guaratiba', 'Barros Filho', 'Benfica', 'Bento Ribeiro',\n",
       "       'Bonsucesso', 'Botafogo', 'Brás de Pina', 'Cachambi', 'Cacuia',\n",
       "       'Caju', 'Camorim', 'Campinho', 'Campo Grande', 'Cascadura',\n",
       "       'Catete', 'Catumbi', 'Cavalcanti', 'Centro', 'Cidade Nova',\n",
       "       'Cidade Universitária', 'Cidade de Deus', 'Cocotá', 'Coelho Neto',\n",
       "       'Colégio', 'Complexo do Alemão', 'Copacabana', 'Cordovil',\n",
       "       'Cosme Velho', 'Cosmos', 'Costa Barros', 'Curicica',\n",
       "       'Del Castilho', 'Deodoro', 'Encantado', 'Engenheiro Leal',\n",
       "       'Engenho Novo', 'Engenho da Rainha', 'Engenho de Dentro',\n",
       "       'Estácio', 'Flamengo', 'Freguesia', 'Freguesia de Jacarepaguá',\n",
       "       'Galeão', 'Gamboa', 'Gardênia Azul', 'Gericinó', 'Glória',\n",
       "       'Grajaú', 'Grumari', 'Guadalupe', 'Guaratiba', 'Gávea',\n",
       "       'Higienópolis', 'Honório Gurgel', 'Humaitá', 'Inhaúma', 'Inhoaíba',\n",
       "       'Ipanema', 'Irajá', 'Itanhangá', 'Jacarepaguá', 'Jacarezinho',\n",
       "       'Jacaré', 'Jardim América', 'Jardim Botânico', 'Jardim Carioca',\n",
       "       'Jardim Guanabara', 'Jardim Sulacap', 'Joá', 'Lagoa', 'Lapa',\n",
       "       'Laranjeiras', 'Leblon', 'Leme', 'Lins de Vasconcelos',\n",
       "       'Madureira', 'Magalhães Bastos', 'Mangueira', 'Manguinhos',\n",
       "       'Maracanã', 'Marechal Hermes', 'Maria da Graça', 'Maré', 'Moneró',\n",
       "       'Méier', 'Olaria', 'Oswaldo Cruz', 'Paciência', 'Padre Miguel',\n",
       "       'Paquetá', 'Parada de Lucas', 'Parque Anchieta', 'Parque Colúmbia',\n",
       "       'Pavuna', 'Pechincha', 'Pedra de Guaratiba', 'Penha',\n",
       "       'Penha Circular', 'Piedade', 'Pilares', 'Pitangueiras',\n",
       "       'Portuguesa', 'Praia da Bandeira', 'Praça Seca',\n",
       "       'Praça da Bandeira', 'Quintino Bocaiuva', 'Ramos', 'Realengo',\n",
       "       'Recreio dos Bandeirantes', 'Riachuelo', 'Ribeira',\n",
       "       'Ricardo de Albuquerque', 'Rio Comprido', 'Rocha', 'Rocha Miranda',\n",
       "       'Rocinha', 'Sampaio', 'Santa Cruz', 'Santa Teresa', 'Santo Cristo',\n",
       "       'Santíssimo', 'Saúde', 'Senador Camará', 'Senador Vasconcelos',\n",
       "       'Sepetiba', 'São Conrado', 'São Cristóvão', 'São Francisco Xavier',\n",
       "       'Tanque', 'Taquara', 'Tauá', 'Tijuca', 'Todos os Santos',\n",
       "       'Tomás Coelho', 'Turiaçu', 'Urca', 'Vargem Grande',\n",
       "       'Vargem Pequena', 'Vasco da Gama', 'Vaz Lobo',\n",
       "       'Vicente de Carvalho', 'Vidigal', 'Vigário Geral', 'Vila Isabel',\n",
       "       'Vila Kennedy', 'Vila Kosmos', 'Vila Militar', 'Vila Valqueire',\n",
       "       'Vila da Penha', 'Vista Alegre', 'Zumbi', 'Água Santa'],\n",
       "      dtype=object)"
      ]
     },
     "execution_count": 5,
     "metadata": {},
     "output_type": "execute_result"
    }
   ],
   "source": [
    "lista_bairros_s_duplicidades = np.unique(bairros)\n",
    "lista_bairros_s_duplicidades"
   ]
  },
  {
   "cell_type": "markdown",
   "metadata": {},
   "source": [
    "-   Tendo o array contendo os nomes dos bairros sem duplicidade é possível, então, criar uma Series contendo somente estes dados:"
   ]
  },
  {
   "cell_type": "code",
   "execution_count": 6,
   "metadata": {},
   "outputs": [
    {
     "data": {
      "text/plain": [
       "0               Abolição\n",
       "1                  Acari\n",
       "2      Alto da Boa Vista\n",
       "3               Anchieta\n",
       "4                Andaraí\n",
       "             ...        \n",
       "156       Vila Valqueire\n",
       "157        Vila da Penha\n",
       "158         Vista Alegre\n",
       "159                Zumbi\n",
       "160           Água Santa\n",
       "Length: 161, dtype: object"
      ]
     },
     "execution_count": 6,
     "metadata": {},
     "output_type": "execute_result"
    }
   ],
   "source": [
    "serie_bairros = pd.Series(lista_bairros_s_duplicidades)\n",
    "serie_bairros"
   ]
  },
  {
   "cell_type": "markdown",
   "metadata": {},
   "source": [
    "-   Podemos desta mesma forma criar uma serie contendo os dados de bairros de nosso Dataset principal para comparação:"
   ]
  },
  {
   "cell_type": "code",
   "execution_count": 7,
   "metadata": {},
   "outputs": [
    {
     "data": {
      "text/plain": [
       "array(['Andaraí', 'Barra da Tijuca', 'Botafogo', 'Campo Grande',\n",
       "       'Copacabana', 'Flamengo', 'Freguesia', 'Freguesia (Jacarepaguá)',\n",
       "       'Glória', 'Ipanema', 'Jacarepaguá', 'Lapa', 'Laranjeiras', 'Méier',\n",
       "       'Paciência', 'Pechincha', 'Recreio dos Bandeirantes', 'Ribeira',\n",
       "       'Rocha', 'Tijuca', 'Vargem Pequena', 'Vila Isabel',\n",
       "       'Vila da Penha'], dtype=object)"
      ]
     },
     "execution_count": 7,
     "metadata": {},
     "output_type": "execute_result"
    }
   ],
   "source": [
    "dados = pd.read_json(path_or_buf = 'stage1.1/realestates.json', orient = 'columns')\n",
    "dados_normal_listings = pd.json_normalize(data=dados.normal, sep='_', record_path=['listings'])\n",
    "bairros_df_principal = np.unique(dados_normal_listings['imovel_endereco_bairro'])\n",
    "bairros_df_principal"
   ]
  },
  {
   "cell_type": "code",
   "execution_count": 8,
   "metadata": {},
   "outputs": [
    {
     "data": {
      "text/plain": [
       "0                      Andaraí\n",
       "1              Barra da Tijuca\n",
       "2                     Botafogo\n",
       "3                 Campo Grande\n",
       "4                   Copacabana\n",
       "5                     Flamengo\n",
       "6                    Freguesia\n",
       "7      Freguesia (Jacarepaguá)\n",
       "8                       Glória\n",
       "9                      Ipanema\n",
       "10                 Jacarepaguá\n",
       "11                        Lapa\n",
       "12                 Laranjeiras\n",
       "13                       Méier\n",
       "14                   Paciência\n",
       "15                   Pechincha\n",
       "16    Recreio dos Bandeirantes\n",
       "17                     Ribeira\n",
       "18                       Rocha\n",
       "19                      Tijuca\n",
       "20              Vargem Pequena\n",
       "21                 Vila Isabel\n",
       "22               Vila da Penha\n",
       "dtype: object"
      ]
     },
     "execution_count": 8,
     "metadata": {},
     "output_type": "execute_result"
    }
   ],
   "source": [
    "lista_bairros_df_principal = pd.Series(bairros_df_principal)\n",
    "lista_bairros_df_principal"
   ]
  },
  {
   "cell_type": "markdown",
   "metadata": {},
   "source": [
    "-   Desta forma é possível realizar a comparação se todos os dados estão contidos na lista completa de bairros:"
   ]
  },
  {
   "cell_type": "code",
   "execution_count": 9,
   "metadata": {},
   "outputs": [
    {
     "data": {
      "text/plain": [
       "0      True\n",
       "1      True\n",
       "2      True\n",
       "3      True\n",
       "4      True\n",
       "5      True\n",
       "6      True\n",
       "7     False\n",
       "8      True\n",
       "9      True\n",
       "10     True\n",
       "11     True\n",
       "12     True\n",
       "13     True\n",
       "14     True\n",
       "15     True\n",
       "16     True\n",
       "17     True\n",
       "18     True\n",
       "19     True\n",
       "20     True\n",
       "21     True\n",
       "22     True\n",
       "dtype: bool"
      ]
     },
     "execution_count": 9,
     "metadata": {},
     "output_type": "execute_result"
    }
   ],
   "source": [
    "lista_bairros_df_principal.isin(lista_bairros_s_duplicidades)"
   ]
  },
  {
   "cell_type": "code",
   "execution_count": 18,
   "metadata": {},
   "outputs": [
    {
     "data": {
      "text/plain": [
       "array(['Barra da Tijuca', 'Campo Grande', 'Glória', 'Vila Isabel',\n",
       "       'Andaraí', 'Copacabana', 'Recreio dos Bandeirantes', 'Tijuca',\n",
       "       'Méier', 'Ipanema', 'Paciência', 'Freguesia', 'Vargem Pequena',\n",
       "       'Pechincha', 'Botafogo', 'Vila da Penha', 'Jacarepaguá',\n",
       "       'Laranjeiras', 'Ribeira', 'Lapa', 'Rocha', 'Flamengo'],\n",
       "      dtype=object)"
      ]
     },
     "execution_count": 18,
     "metadata": {},
     "output_type": "execute_result"
    }
   ],
   "source": [
    "dados_normal_listings['imovel_endereco_bairro'].replace(\n",
    "    {'Freguesia (Jacarepaguá)':'Freguesia'}, \n",
    "    inplace=True\n",
    ")\n",
    "dados_normal_listings['imovel_endereco_bairro'].unique()"
   ]
  },
  {
   "cell_type": "code",
   "execution_count": 21,
   "metadata": {},
   "outputs": [
    {
     "data": {
      "text/plain": [
       "array(['Andaraí', 'Barra da Tijuca', 'Botafogo', 'Campo Grande',\n",
       "       'Copacabana', 'Flamengo', 'Freguesia', 'Glória', 'Ipanema',\n",
       "       'Jacarepaguá', 'Lapa', 'Laranjeiras', 'Méier', 'Paciência',\n",
       "       'Pechincha', 'Recreio dos Bandeirantes', 'Ribeira', 'Rocha',\n",
       "       'Tijuca', 'Vargem Pequena', 'Vila Isabel', 'Vila da Penha'],\n",
       "      dtype=object)"
      ]
     },
     "execution_count": 21,
     "metadata": {},
     "output_type": "execute_result"
    }
   ],
   "source": [
    "bairros_df_principal = np.unique(dados_normal_listings['imovel_endereco_bairro'])\n",
    "bairros_df_principal"
   ]
  },
  {
   "cell_type": "code",
   "execution_count": 23,
   "metadata": {},
   "outputs": [
    {
     "data": {
      "text/plain": [
       "0                      Andaraí\n",
       "1              Barra da Tijuca\n",
       "2                     Botafogo\n",
       "3                 Campo Grande\n",
       "4                   Copacabana\n",
       "5                     Flamengo\n",
       "6                    Freguesia\n",
       "7                       Glória\n",
       "8                      Ipanema\n",
       "9                  Jacarepaguá\n",
       "10                        Lapa\n",
       "11                 Laranjeiras\n",
       "12                       Méier\n",
       "13                   Paciência\n",
       "14                   Pechincha\n",
       "15    Recreio dos Bandeirantes\n",
       "16                     Ribeira\n",
       "17                       Rocha\n",
       "18                      Tijuca\n",
       "19              Vargem Pequena\n",
       "20                 Vila Isabel\n",
       "21               Vila da Penha\n",
       "dtype: object"
      ]
     },
     "execution_count": 23,
     "metadata": {},
     "output_type": "execute_result"
    }
   ],
   "source": [
    "lista_bairros_df_principal = pd.Series(bairros_df_principal)\n",
    "lista_bairros_df_principal"
   ]
  },
  {
   "cell_type": "code",
   "execution_count": 24,
   "metadata": {},
   "outputs": [
    {
     "data": {
      "text/plain": [
       "0     True\n",
       "1     True\n",
       "2     True\n",
       "3     True\n",
       "4     True\n",
       "5     True\n",
       "6     True\n",
       "7     True\n",
       "8     True\n",
       "9     True\n",
       "10    True\n",
       "11    True\n",
       "12    True\n",
       "13    True\n",
       "14    True\n",
       "15    True\n",
       "16    True\n",
       "17    True\n",
       "18    True\n",
       "19    True\n",
       "20    True\n",
       "21    True\n",
       "dtype: bool"
      ]
     },
     "execution_count": 24,
     "metadata": {},
     "output_type": "execute_result"
    }
   ],
   "source": [
    "lista_bairros_df_principal.isin(lista_bairros_s_duplicidades)"
   ]
  }
 ],
 "metadata": {
  "kernelspec": {
   "display_name": "vm_pandas_estudos",
   "language": "python",
   "name": "python3"
  },
  "language_info": {
   "codemirror_mode": {
    "name": "ipython",
    "version": 3
   },
   "file_extension": ".py",
   "mimetype": "text/x-python",
   "name": "python",
   "nbconvert_exporter": "python",
   "pygments_lexer": "ipython3",
   "version": "3.10.11"
  },
  "orig_nbformat": 4
 },
 "nbformat": 4,
 "nbformat_minor": 2
}
