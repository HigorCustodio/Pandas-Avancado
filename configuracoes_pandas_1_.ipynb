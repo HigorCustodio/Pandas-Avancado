{
 "cells": [
  {
   "cell_type": "code",
   "execution_count": 1,
   "metadata": {},
   "outputs": [],
   "source": [
    "import pandas as pd"
   ]
  },
  {
   "attachments": {},
   "cell_type": "markdown",
   "metadata": {},
   "source": [
    "#   Configurações padrão do Pandas\n",
    "\n",
    "    Acessando versão do Pandas:\n",
    "    -   pd.__version__\n",
    "\n",
    "    Configurações de visualização:\n",
    "        Por padrão dependendo do tamanho do meu Dataframe, o Pandas trunca os dados mostrando somente algumas linhas do inicio do Dataframe e algumas linhas do Final do Dataframe.\n",
    "\n",
    "        Para visualizar o Default dessas configurações:\n",
    "        Qundo eu sei qual é a configuração que eu quero visualizar, posso chamar a função 'pd.options.', onde seu argumento será a configuração que vou visualizar:\n",
    "        Ex:\n",
    "```python\n",
    "        #Quantidade de linhas visualizadas: (sem aspas)\n",
    "        'pd.options.display.max_rows'\n",
    "\n",
    "        #Quantidade de colunas visualizadas: (sem aspas)\n",
    "        'pd.options.display.max_columns'\n",
    "\n",
    "``` \n",
    "        -   O \"display.max_rows\" irá retornar a quantidade máxima de linhas permitidas na visualização de um Datraframe, por padrão esse valor é 60 linhas;\n",
    "        \n",
    "        -   O \"display.max_columns\" irá retornar a quantidade máxima de colunas permitidas na visualização de um Datraframe, o valor retornado dessa função é um pouco diferente do esperado, ele retornará um '0' que é o valor Default para colunas, esse valor é padrão para que o Pandas consiga sempre alterar o tamanho das colunas visualizadas de acordo com a quantidade de variaveis e o tamanho do display onde as informações estão sendo apresentadas;\n",
    "\n",
    "    Documentação oficial contendo todas as configurações do Pandas:  \"https://pandas.pydata.org/pandas-docs/stable/user_guide/options.html#available-options\"\n",
    "\n",
    "    Outra forma de fazer a visualização das opções de configurações é atraveés do uso do método \"pd.describe_option()\" onde, se não receber nenhum argumento ela irá retornar todas as configurações do Pandas\n",
    "    Ex:\n",
    "```python\n",
    "        'Entrada'\n",
    "        #Acessando todas as configurações:\n",
    "        pd.describe_option()\n",
    "\n",
    "        'Saída'\n",
    "        #Configurações retornadas:\n",
    "        >>>   compute.use_bottleneck : bool\n",
    "                Use the bottleneck library to accelerate if it is installed,\n",
    "                the default is True\n",
    "                Valid values: False,True\n",
    "                [default: True] [currently: True]\n",
    "        >>>    compute.use_numba : bool\n",
    "                Use the numba engine option for select operations if it is installed,\n",
    "                the default is False\n",
    "                Valid values: False,True\n",
    "                [default: False] [currently: False]     \n",
    "``` \n",
    "\n",
    "#   Para alterar os valores padrões:\n",
    "    Para realizar a mudança dos valores Default do Pandas podemos realizar implementação da função 'pd.set_option(configuracao,novo_valor)'.\n",
    "    Ex:\n",
    "```python\n",
    "        'Entrada'\n",
    "        #Realizando mudança dos valores default:\n",
    "        pd.set_option(\"display.max_rows\", 1000)\n",
    "        pd.set_option(\"display.max_columns\", 100)\n",
    "\n",
    "        'Saída'\n",
    "        #Configurações retornadas:\n",
    "        >>> None\n",
    "``` \n",
    "    Desta forma o Dataframe irá apartir deste momento apresentar os dados de visualização do Dataframe onde agora a quantidade de linhas mostrada será 1000 e a quantidade de colunas 100.\n",
    "    -   É preciso tomar cuidado com a alteração dessas configurações, afinal quanto mais dados mostrados, mais poder de processamento é necessário para renderizar os dados, ou seja, caso seja alterado para um valor muito grande é provavel que a aplicação trave!\n",
    "\n",
    "# Resetar os valores para os padrões do Pandas:\n",
    "    Para retornar os valores para o padrão que vem originalmente no Pandas é só usar a função 'pd.reset_option()' passando como argumento a configuração que será voltada para os padrões do Pandas.\n",
    "    Ex:\n",
    "```python\n",
    "        'Entrada'\n",
    "        #Realizando reset dos valores para default:\n",
    "        pd.reset_option(\"display.max_rows\")\n",
    "        \n",
    "        'Saída'\n",
    "        #Configurações retornadas:\n",
    "        >>> None\n",
    "\n",
    "``` "
   ]
  },
  {
   "cell_type": "code",
   "execution_count": 3,
   "metadata": {},
   "outputs": [
    {
     "data": {
      "text/plain": [
       "60"
      ]
     },
     "execution_count": 3,
     "metadata": {},
     "output_type": "execute_result"
    }
   ],
   "source": [
    "#Quantidade de linhas visualizadas:\n",
    "pd.options.display.max_rows\n"
   ]
  },
  {
   "cell_type": "code",
   "execution_count": 6,
   "metadata": {},
   "outputs": [
    {
     "data": {
      "text/plain": [
       "20"
      ]
     },
     "execution_count": 6,
     "metadata": {},
     "output_type": "execute_result"
    }
   ],
   "source": [
    "#Quantidade de colunas visualizadas:\n",
    "pd.options.display.max_columns"
   ]
  }
 ],
 "metadata": {
  "kernelspec": {
   "display_name": "vm_pandas_estudos",
   "language": "python",
   "name": "python3"
  },
  "language_info": {
   "codemirror_mode": {
    "name": "ipython",
    "version": 3
   },
   "file_extension": ".py",
   "mimetype": "text/x-python",
   "name": "python",
   "nbconvert_exporter": "python",
   "pygments_lexer": "ipython3",
   "version": "3.10.11"
  },
  "orig_nbformat": 4
 },
 "nbformat": 4,
 "nbformat_minor": 2
}
